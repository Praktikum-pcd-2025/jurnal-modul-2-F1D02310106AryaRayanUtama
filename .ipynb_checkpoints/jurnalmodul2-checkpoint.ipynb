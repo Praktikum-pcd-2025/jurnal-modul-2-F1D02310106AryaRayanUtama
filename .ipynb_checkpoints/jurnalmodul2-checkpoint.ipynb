{
 "cells": [
  {
   "cell_type": "code",
   "execution_count": null,
   "id": "d005e662",
   "metadata": {},
   "outputs": [],
   "source": [
    "import numpy as np\n",
    "import matplotlib.pyplot as plt\n",
    "import cv2 as cv"
   ]
  },
  {
   "cell_type": "code",
   "execution_count": null,
   "id": "83c55507",
   "metadata": {},
   "outputs": [],
   "source": [
    "img = plt.imread(\"Assets/aktivis.jpg\")\n",
    "\n",
    "plt.imshow(img)\n",
    "plt.show()"
   ]
  },
  {
   "cell_type": "code",
   "execution_count": null,
   "id": "0f424e3a",
   "metadata": {},
   "outputs": [],
   "source": [
    "img = plt.imread(\"Assets/aktivis.jpg\")\n",
    "\n",
    "plt.imshow(img)\n",
    "plt.axis('off')\n",
    "plt.show()"
   ]
  },
  {
   "cell_type": "code",
   "execution_count": null,
   "id": "eda6a20b",
   "metadata": {},
   "outputs": [],
   "source": [
    "aktivis1 = img[:, 0: 450]\n",
    "aktivis2 = img[:, 450: 900]\n",
    "aktivis3 = img[:, 900: 1350]\n",
    "aktivis4 = img[:, 1350: 1800]\n",
    "aktivis5 = img[:, 1800: 2250]\n",
    "aktivis6 = img[:, 2250: 2700]\n",
    "\n",
    "plt.subplot(1,6,1)\n",
    "plt.imshow(aktivis1)\n",
    "plt.axis(False)\n",
    "plt.subplot(1,6,2)\n",
    "plt.imshow(aktivis2)\n",
    "plt.axis(False)\n",
    "plt.subplot(1,6,3)\n",
    "plt.imshow(aktivis3)\n",
    "plt.axis(False)\n",
    "plt.subplot(1,6,4)\n",
    "plt.imshow(aktivis4)\n",
    "plt.axis(False)\n",
    "plt.subplot(1,6,5)\n",
    "plt.imshow(aktivis5)\n",
    "plt.axis(False)\n",
    "plt.subplot(1,6,6)\n",
    "plt.imshow(aktivis6)\n",
    "plt.axis(False)\n",
    "\n",
    "plt.show()"
   ]
  },
  {
   "cell_type": "code",
   "execution_count": null,
   "id": "187bae1b",
   "metadata": {},
   "outputs": [],
   "source": [
    "img_timelane = cv.hconcat([aktivis2, aktivis6, aktivis4, aktivis1, aktivis5, aktivis3])\n",
    "\n",
    "plt.imshow(img_timelane)\n",
    "plt.axis(False)\n",
    "plt.show()"
   ]
  },
  {
   "cell_type": "code",
   "execution_count": null,
   "id": "39be1ffa",
   "metadata": {},
   "outputs": [],
   "source": []
  }
 ],
 "metadata": {
  "kernelspec": {
   "display_name": "Python 3",
   "language": "python",
   "name": "python3"
  },
  "language_info": {
   "codemirror_mode": {
    "name": "ipython",
    "version": 3
   },
   "file_extension": ".py",
   "mimetype": "text/x-python",
   "name": "python",
   "nbconvert_exporter": "python",
   "pygments_lexer": "ipython3",
   "version": "3.13.2"
  }
 },
 "nbformat": 4,
 "nbformat_minor": 5
}
